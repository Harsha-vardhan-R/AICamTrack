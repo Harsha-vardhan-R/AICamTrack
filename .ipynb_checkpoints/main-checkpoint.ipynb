{
 "cells": [
  {
   "cell_type": "code",
   "execution_count": 11,
   "id": "f7cedbb5-8675-488a-887b-8297bda1084c",
   "metadata": {},
   "outputs": [],
   "source": [
    "import torch\n",
    "import pandas\n",
    "import matplotlib\n",
    "import cv2\n",
    "import numpy"
   ]
  },
  {
   "cell_type": "code",
   "execution_count": null,
   "id": "c9858b33-e608-4325-9484-ca6a2c658bd4",
   "metadata": {},
   "outputs": [],
   "source": [
    "# Need not run.\n",
    "torch.cuda.is_available()\n",
    "print(cv2.getBuildInformation())"
   ]
  },
  {
   "cell_type": "code",
   "execution_count": null,
   "id": "abeaaea3-937a-4868-b61f-aa766d005e59",
   "metadata": {},
   "outputs": [],
   "source": [
    "# We need to track two things for camera tracking, \n",
    "#    1 -> direction.\n",
    "#    2 -> location.\n",
    "#\n",
    "# The ML model aids us selecting what to track, and because we need to track the camera for more than just the objects that appear at the \n",
    "# beginning of the video, we need to drop objects and pickup new objects with the duration of the clip.\n",
    "#\n",
    "#\n",
    "#\n",
    "#\n",
    "#\n",
    "#\n",
    "#"
   ]
  },
  {
   "cell_type": "code",
   "execution_count": null,
   "id": "e1f7a1a1-5e19-423c-9736-df314fc2815c",
   "metadata": {},
   "outputs": [],
   "source": [
    "#### PROTOTYPE ####"
   ]
  },
  {
   "cell_type": "code",
   "execution_count": 98,
   "id": "04213877-d3fe-4e36-88f2-50262bd9bf20",
   "metadata": {},
   "outputs": [
    {
     "name": "stdout",
     "output_type": "stream",
     "text": [
      "Error: Failed to capture frame.\n"
     ]
    }
   ],
   "source": [
    "# FILTERS AND TRACKING #\n",
    "\n",
    "\n",
    "video_path = 'footage.mp4'\n",
    "video = cv2.VideoCapture(video_path)\n",
    "kernel = numpy.array([[2 , 3 , 2], \n",
    "                      [3 ,-20 , 3], \n",
    "                      [2 , 3 , 2]])\n",
    "\n",
    "kernel2 = numpy.array([[1, 1 ,1], \n",
    "                       [ 1, -8 , 1], \n",
    "                       [1, 1 ,1]])\n",
    "\n",
    "\n",
    "if not video.isOpened():\n",
    "    print(\"Error: Could not open video file(mostly, file not found)\")\n",
    "else:\n",
    "    # play video with filters.\n",
    "    while (1):\n",
    "        ret, frame = video.read()\n",
    "\n",
    "        if not ret:\n",
    "            print(\"Error: Failed to capture frame.\")\n",
    "            break\n",
    "        frame = cv2.resize(frame, (1920, 1080))\n",
    "\n",
    "        #frame = cv2.GaussianBlur(frame, (3, 3), 0);\n",
    "        frame = cv2.filter2D(frame, -1, kernel);\n",
    "        #frame = cv2.filter2D(frame, -1, kernel2);\n",
    "\n",
    "        cv2.imshow('Video', frame)\n",
    "\n",
    "        # if the pressed key in 30 ms is `q`, quit.\n",
    "        if cv2.waitKey(30) & 0xFF == ord('q'):\n",
    "            break\n",
    "\n",
    "    \n",
    "    video.release()\n",
    "    cv2.destroyAllWindows()"
   ]
  },
  {
   "cell_type": "code",
   "execution_count": null,
   "id": "bd129349-b7b4-4ad0-85e9-abcd4e437003",
   "metadata": {},
   "outputs": [],
   "source": []
  }
 ],
 "metadata": {
  "kernelspec": {
   "display_name": "Python 3 (ipykernel)",
   "language": "python",
   "name": "python3"
  },
  "language_info": {
   "codemirror_mode": {
    "name": "ipython",
    "version": 3
   },
   "file_extension": ".py",
   "mimetype": "text/x-python",
   "name": "python",
   "nbconvert_exporter": "python",
   "pygments_lexer": "ipython3",
   "version": "3.10.12"
  }
 },
 "nbformat": 4,
 "nbformat_minor": 5
}
